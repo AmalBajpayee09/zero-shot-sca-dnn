{
 "cells": [
  {
   "cell_type": "code",
   "execution_count": null,
   "id": "45c0da84",
   "metadata": {
    "vscode": {
     "languageId": "plaintext"
    }
   },
   "outputs": [],
   "source": [
    "# demo_inference.ipynb\n",
    "\n",
    "\"\"\"\n",
    "Demo Notebook: Zero-Shot DNN Layer Extraction\n",
    "Author: Amal Bajpayee\n",
    "\"\"\"\n",
    "\n",
    "import torch\n",
    "import pandas as pd\n",
    "import matplotlib.pyplot as plt\n",
    "from scripts.utils import EncoderNetwork, TransformerDecoder, load_trace_csv\n",
    "\n",
    "# Load preprocessed trace\n",
    "trace = load_trace_csv(\"data/rx580/trace_34.csv\")\n",
    "trace = trace.unsqueeze(0).cuda()\n",
    "\n",
    "# Load trained models\n",
    "encoder = EncoderNetwork()\n",
    "decoder = TransformerDecoder()\n",
    "encoder.load_state_dict(torch.load(\"models/encoder.pth\"))\n",
    "decoder.load_state_dict(torch.load(\"models/transformer_decoder.pth\"))\n",
    "encoder.eval().cuda()\n",
    "decoder.eval().cuda()\n",
    "\n",
    "# Inference\n",
    "with torch.no_grad():\n",
    "    latent = encoder(trace)\n",
    "    pred = decoder(latent)\n",
    "    output = pred.argmax(dim=-1).squeeze()\n",
    "\n",
    "print(\"Predicted Layer Sequence:\")\n",
    "print(output.cpu().numpy())\n",
    "\n",
    "# Optional: visualize trace\n",
    "df = pd.read_csv(\"data/rx580/trace_34.csv\")\n",
    "df.plot(title=\"Trace View\", figsize=(10, 4))\n",
    "plt.grid()\n",
    "plt.show()\n"
   ]
  }
 ],
 "metadata": {
  "language_info": {
   "name": "python"
  }
 },
 "nbformat": 4,
 "nbformat_minor": 5
}
